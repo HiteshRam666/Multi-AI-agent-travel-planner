{
 "cells": [
  {
   "cell_type": "code",
   "execution_count": 1,
   "metadata": {},
   "outputs": [],
   "source": [
    "import os\n",
    "from dotenv import load_dotenv, find_dotenv \n",
    "\n",
    "_ = load_dotenv(find_dotenv())\n",
    "openai_api_key = os.environ[\"OPENAI_API_KEY\"]"
   ]
  },
  {
   "cell_type": "code",
   "execution_count": 2,
   "metadata": {},
   "outputs": [],
   "source": [
    "from typing import TypedDict, Annotated, List, Dict\n",
    "from langgraph.graph import StateGraph, END\n",
    "from langchain_core.messages import HumanMessage, AIMessage\n",
    "from langchain_core.prompts import ChatPromptTemplate\n",
    "from langchain_core.runnables.graph import MermaidDrawMethod\n",
    "from IPython.display import display, Image"
   ]
  },
  {
   "cell_type": "markdown",
   "metadata": {},
   "source": [
    "#### **Defining Agent**"
   ]
  },
  {
   "cell_type": "code",
   "execution_count": 25,
   "metadata": {},
   "outputs": [],
   "source": [
    "class PlannerState(TypedDict):\n",
    "  messages : Annotated[List[HumanMessage | AIMessage], \"the messages in the conversation\"]\n",
    "  city: str\n",
    "  interests: List[str]\n",
    "  itinerary: str\n",
    "  budget: float\n",
    "  expenses : List[dict]"
   ]
  },
  {
   "cell_type": "code",
   "execution_count": 26,
   "metadata": {},
   "outputs": [
    {
     "name": "stdout",
     "output_type": "stream",
     "text": [
      "In the depths of data, deep learning lies,\n",
      "A web of connections, a vast enterprise.\n",
      "Neural networks search, patterns to find,\n",
      "Unraveling mysteries of the human mind.\n",
      "In the digital realm, intelligence thrives.\n"
     ]
    }
   ],
   "source": [
    "from langchain_openai import ChatOpenAI \n",
    "llm = ChatOpenAI()\n",
    "print(llm.invoke(\"Write 5 line Poem on Deep learning\").content)"
   ]
  },
  {
   "cell_type": "code",
   "execution_count": 27,
   "metadata": {},
   "outputs": [],
   "source": [
    "itinerary_prompt = ChatPromptTemplate.from_messages([\n",
    "    (\"system\", \"You are a helpful travel assistant. Create a detailed trip itinerary for {city} based on the user's interests: {interests}. The user has a budget of ${budget:.2f}. Provide a brief description of the trip with estimation cost and days of trip user have defined, followed by a bulleted itinerary. Make sure to stay within the budget and suggest relevant activities.\"),\n",
    "    (\"human\", \"Create an itinerary for my trip.\")\n",
    "])"
   ]
  },
  {
   "cell_type": "markdown",
   "metadata": {},
   "source": [
    "#### **Defining Agent Functions**"
   ]
  },
  {
   "cell_type": "code",
   "execution_count": 28,
   "metadata": {},
   "outputs": [],
   "source": [
    "def input_city(state: PlannerState) -> PlannerState:\n",
    "    print(\"Please enter the Place you want to visit for your trip: \")\n",
    "    user_message = input(\"Your Input: \")\n",
    "    return {\n",
    "        **state,\n",
    "        \"city\": user_message,\n",
    "        \"messages\": state['messages'] + [HumanMessage(content=user_message)],\n",
    "    }"
   ]
  },
  {
   "cell_type": "code",
   "execution_count": 29,
   "metadata": {},
   "outputs": [],
   "source": [
    "def input_interest(state: PlannerState) -> PlannerState:\n",
    "    print(f\"Please enter your interested city for the trip to: {state['city']}\")\n",
    "    user_message = input(\"Your Input: \")\n",
    "    return {\n",
    "        **state,\n",
    "        \"interests\": [interest.strip() for interest in user_message.split(\",\")],\n",
    "        \"messages\": state['messages'] + [HumanMessage(content=user_message)],\n",
    "    }"
   ]
  },
  {
   "cell_type": "code",
   "execution_count": 30,
   "metadata": {},
   "outputs": [],
   "source": [
    "def input_budget(state: PlannerState) -> PlannerState:\n",
    "    print(\"Please enter your budget for the trip (in USD): \")\n",
    "    user_message = input(\"Your Input: \")\n",
    "    budget = float(user_message)\n",
    "    updated_state = {\n",
    "        **state, \n",
    "        \"budget\": budget, \n",
    "        \"messages\": state[\"messages\"] + [HumanMessage(content=f\"My budget is ${budget}\")],\n",
    "    }\n",
    "    return updated_state"
   ]
  },
  {
   "cell_type": "code",
   "execution_count": 31,
   "metadata": {},
   "outputs": [],
   "source": [
    "def track_expenses(state: PlannerState) -> PlannerState:\n",
    "    print(f\"Tracking expenses for the trip to {state['city']}. Budget: ${state['budget']:.2f}\")\n",
    "    print(\"Enter your expenses in the format: item, cost (e.g., Hotel, 500): \")\n",
    "\n",
    "    while True:\n",
    "        user_message = input(\"Expense (or type 'done' to finish): \")\n",
    "        if user_message.lower() == \"done\":\n",
    "            break\n",
    "        try:\n",
    "            item, cost = user_message.split(\",\")\n",
    "            cost = float(cost.strip())\n",
    "            state[\"expenses\"].append({\"item\": item.strip(), \"cost\": cost})\n",
    "            print(f\"Added expense: {item.strip()} - ${cost:.2f}\")\n",
    "        except ValueError:\n",
    "            print(\"Invalid input. Please enter in the correct format.\")\n",
    "\n",
    "    total_expenses = sum(exp[\"cost\"] for exp in state[\"expenses\"])\n",
    "    remaining_budget = state[\"budget\"] - total_expenses\n",
    "    print(f\"\\nTotal Expenses: ${total_expenses:.2f}\")\n",
    "    print(f\"Remaining Budget: ${remaining_budget:.2f}\")\n",
    "\n",
    "    return {\n",
    "        **state,\n",
    "        \"messages\": state[\"messages\"] + [HumanMessage(content=f\"Tracked expenses. Total: ${total_expenses:.2f}, Remaining: ${remaining_budget:.2f}\")],\n",
    "    }"
   ]
  },
  {
   "cell_type": "code",
   "execution_count": 32,
   "metadata": {},
   "outputs": [],
   "source": [
    "def create_itinerary(state: PlannerState) -> PlannerState:\n",
    "    # Check if budget is present in the state before processing\n",
    "    if 'budget' not in state:\n",
    "        print(\"Error: 'budget' not found in the state.\")\n",
    "        return state\n",
    "    \n",
    "    print(f\"Creating an itinerary for {state['city']} based on interests: {', '.join(state['interests'])}\")\n",
    "    response = llm.invoke(itinerary_prompt.format_messages(city=state['city'], interests=','.join(state['interests']), budget=state['budget']))\n",
    "    print(\"\\nFinal Itinerary: \")\n",
    "    print(response.content)\n",
    "    \n",
    "    updated_state = {\n",
    "        **state,\n",
    "        \"messages\": state['messages'] + [AIMessage(content=response.content)],\n",
    "        \"itinerary\": response.content,\n",
    "    }\n",
    "    # print(f\"State after create_itinerary: {updated_state}\")  # Debug print\n",
    "    return updated_state"
   ]
  },
  {
   "cell_type": "markdown",
   "metadata": {},
   "source": [
    "#### **Create and compile the Graph**"
   ]
  },
  {
   "cell_type": "code",
   "execution_count": 33,
   "metadata": {},
   "outputs": [],
   "source": [
    "workflow = StateGraph(PlannerState)\n",
    "workflow.add_node(\"input_city\", input_city)\n",
    "workflow.add_node(\"input_interest\", input_interest)\n",
    "workflow.add_node(\"input_budget\", input_budget)\n",
    "workflow.add_node(\"create_itinerary\", create_itinerary)\n",
    "workflow.add_node(\"track_expenses\", track_expenses)\n",
    "\n",
    "workflow.set_entry_point(\"input_city\")\n",
    "workflow.add_edge(\"input_city\", \"input_interest\")\n",
    "workflow.add_edge(\"input_interest\", \"input_budget\")  # Ensure this edge is correct\n",
    "workflow.add_edge(\"input_budget\", \"create_itinerary\")\n",
    "workflow.add_edge(\"create_itinerary\", \"track_expenses\")\n",
    "workflow.add_edge(\"track_expenses\", END)\n",
    "\n",
    "app = workflow.compile()"
   ]
  },
  {
   "cell_type": "markdown",
   "metadata": {},
   "source": [
    "##### **Display Graph Structure**"
   ]
  },
  {
   "cell_type": "code",
   "execution_count": 34,
   "metadata": {},
   "outputs": [
    {
     "data": {
      "image/png": "[encoded data removed]",
      "text/plain": [
       "<IPython.core.display.Image object>"
      ]
     },
     "metadata": {},
     "output_type": "display_data"
    }
   ],
   "source": [
    "display(\n",
    "    Image(\n",
    "        app.get_graph().draw_mermaid_png(\n",
    "            draw_method = MermaidDrawMethod.API\n",
    "        )\n",
    "    )\n",
    ")"
   ]
  },
  {
   "cell_type": "markdown",
   "metadata": {},
   "source": [
    "#### **Define the function that runs the graph**"
   ]
  },
  {
   "cell_type": "code",
   "execution_count": 35,
   "metadata": {},
   "outputs": [],
   "source": [
    "def travel_planner(user_request: str):\n",
    "    print(f\"Initial Request: {user_request}\\n\")\n",
    "    \n",
    "    state = {\n",
    "        \"messages\": [HumanMessage(content=user_request)],\n",
    "        \"city\": \"\",\n",
    "        \"interests\": [],\n",
    "        \"itinerary\": \"\",\n",
    "        \"budget\": 0.0,\n",
    "        \"expenses\": [],\n",
    "    }\n",
    "    \n",
    "    # Process the workflow\n",
    "    for output in app.stream(state):\n",
    "        pass"
   ]
  },
  {
   "cell_type": "code",
   "execution_count": 40,
   "metadata": {},
   "outputs": [
    {
     "name": "stdout",
     "output_type": "stream",
     "text": [
      "Initial Request: I want to plan trip to the given place\n",
      "\n",
      "Please enter the Place you want to visit for your trip: \n",
      "Please enter your interested city for the trip to: Italy\n",
      "Please enter your budget for the trip (in USD): \n",
      "Creating an itinerary for Italy based on interests: Venice\n",
      "\n",
      "Final Itinerary: \n",
      "Absolutely! Here's a detailed trip itinerary for your visit to Venice, Italy within your budget of $2000.00 for a 4-day trip:\n",
      "\n",
      "---\n",
      "\n",
      "**Trip Description:**\n",
      "Explore the enchanting city of Venice, known for its picturesque canals, historic architecture, and rich cultural heritage. Immerse yourself in the Venetian way of life by wandering through narrow streets, visiting iconic landmarks, enjoying delicious Italian cuisine, and taking a gondola ride through the city's waterways.\n",
      "\n",
      "**Estimated Cost:** $1900.00  \n",
      "**Duration:** 4 days\n",
      "\n",
      "---\n",
      "\n",
      "**Day 1: Arrival in Venice**\n",
      "- Arrival in Venice\n",
      "- Check into a budget-friendly hotel near the city center\n",
      "- Stroll through St. Mark's Square and visit St. Mark's Basilica\n",
      "- Enjoy a traditional Venetian dinner at a local trattoria\n",
      "- **Cost:** $150.00\n",
      "\n",
      "**Day 2: Explore Venice**\n",
      "- Breakfast at a local cafe\n",
      "- Visit the Doge's Palace and Bridge of Sighs\n",
      "- Explore the Rialto Market and Rialto Bridge\n",
      "- Take a gondola ride along the Grand Canal\n",
      "- Dinner at a charming osteria\n",
      "- **Cost:** $400.00\n",
      "\n",
      "**Day 3: Day Trip to Murano and Burano**\n",
      "- Take a vaporetto to the islands of Murano and Burano\n",
      "- Watch a glass-blowing demonstration in Murano\n",
      "- Explore the colorful houses of Burano\n",
      "- Enjoy fresh seafood for lunch\n",
      "- Return to Venice in the evening\n",
      "- **Cost:** $300.00\n",
      "\n",
      "**Day 4: Departure**\n",
      "- Breakfast at the hotel\n",
      "- Visit the Peggy Guggenheim Collection\n",
      "- Wander through the streets of Dorsoduro\n",
      "- Buy souvenirs at local shops\n",
      "- Departure from Venice\n",
      "- **Cost:** $250.00\n",
      "\n",
      "---\n",
      "\n",
      "This itinerary allows you to experience the highlights of Venice while staying within your budget of $2000.00. Enjoy your trip to this beautiful city!\n",
      "Tracking expenses for the trip to Italy. Budget: $2000.00\n",
      "Enter your expenses in the format: item, cost (e.g., Hotel, 500): \n",
      "Added expense: hotel - $2000.00\n",
      "\n",
      "Total Expenses: $2000.00\n",
      "Remaining Budget: $0.00\n"
     ]
    }
   ],
   "source": [
    "user_request = \"I want to plan trip to the given place\"\n",
    "travel_planner(user_request)"
   ]
  },
  {
   "cell_type": "code",
   "execution_count": 49,
   "metadata": {},
   "outputs": [
    {
     "name": "stdout",
     "output_type": "stream",
     "text": [
      "* Running on local URL:  http://127.0.0.1:7865\n",
      "\n",
      "To create a public link, set `share=True` in `launch()`.\n"
     ]
    },
    {
     "data": {
      "text/html": [
       "<div><iframe src=\"http://127.0.0.1:7865/\" width=\"100%\" height=\"500\" allow=\"autoplay; camera; microphone; clipboard-read; clipboard-write;\" frameborder=\"0\" allowfullscreen></iframe></div>"
      ],
      "text/plain": [
       "<IPython.core.display.HTML object>"
      ]
     },
     "metadata": {},
     "output_type": "display_data"
    },
    {
     "data": {
      "text/plain": []
     },
     "execution_count": 49,
     "metadata": {},
     "output_type": "execute_result"
    },
    {
     "name": "stdout",
     "output_type": "stream",
     "text": [
      "Created dataset file at: .gradio\\flagged\\dataset3.csv\n"
     ]
    }
   ],
   "source": [
    "import gradio as gr\n",
    "from typing import TypedDict, Annotated, List\n",
    "from langgraph.graph import StateGraph, END\n",
    "from langchain_core.messages import HumanMessage, AIMessage\n",
    "from langchain_core.prompts import ChatPromptTemplate\n",
    "from langchain_groq import ChatGroq\n",
    "\n",
    "\n",
    "\n",
    "interface = gr.Interface(\n",
    "    fn=travel_planner,\n",
    "    theme='Yntec/HaleyCH_Theme_Orange_Green',\n",
    "    inputs=[\n",
    "        gr.Textbox(label=\"Please enter the Place you want to visit for your trip: \"),\n",
    "        gr.Textbox(label=\"Please enter your interested city for the trip to: \"),\n",
    "        # gr.Textbox(label=\"Please enter your budget for the trip (in USD): \")\n",
    "    ],\n",
    "    outputs=gr.Textbox(label=\"Generated Itinerary\"),\n",
    "    title=\"Travel Itinerary Planner\",\n",
    "    description=\"Enter a city and your interests to generate a personalized day trip itinerary.\"\n",
    ")\n",
    "\n",
    "# Launch the Gradio application\n",
    "interface.launch()\n"
   ]
  },
  {
   "cell_type": "code",
   "execution_count": null,
   "metadata": {},
   "outputs": [],
   "source": []
  }
 ],
 "metadata": {
  "kernelspec": {
   "display_name": "venv",
   "language": "python",
   "name": "python3"
  },
  "language_info": {
   "codemirror_mode": {
    "name": "ipython",
    "version": 3
   },
   "file_extension": ".py",
   "mimetype": "text/x-python",
   "name": "python",
   "nbconvert_exporter": "python",
   "pygments_lexer": "ipython3",
   "version": "3.12.0"
  }
 },
 "nbformat": 4,
 "nbformat_minor": 2
}
